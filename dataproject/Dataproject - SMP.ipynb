{
 "cells": [
  {
   "attachments": {},
   "cell_type": "markdown",
   "metadata": {},
   "source": [
    "# <a id='toc1_'></a>[Data Project - Zbx336 & Cng782](#toc0_)\n"
   ]
  },
  {
   "attachments": {},
   "cell_type": "markdown",
   "metadata": {},
   "source": [
    "### <a id='toc1_'></a>[Importing and looking at our data](#toc0_)\n"
   ]
  },
  {
   "cell_type": "code",
   "execution_count": null,
   "metadata": {},
   "outputs": [],
   "source": [
    "# Importing and showing data\n",
    "\n",
    "!pip install yfinance\n",
    "!pip install pandas-datareader\n",
    "\n",
    "\n",
    "import yfinance as yf\n",
    "import pandas as pd\n",
    "import numpy as np\n",
    "import matplotlib.pyplot as plt\n",
    "import seaborn as sns\n",
    "import pandas_datareader as pdr\n",
    "from statsmodels.tsa.holtwinters import ExponentialSmoothing\n",
    "from datetime import datetime\n",
    "import statsmodels.api as sm\n",
    "\n",
    "\n",
    "plt.style.use(\"fivethirtyeight\")\n",
    "\n",
    "DOW = yf.Ticker(\"^dji\")\n",
    "SP500= yf.Ticker(\"^GSPC\")\n",
    "NASDAQ= yf.Ticker(\"^IXIC\")\n",
    "INTEREST_RATE=yf.Ticker(\"^TNX\")\n",
    "\n",
    "# get all stock info\n",
    "DOW.info\n",
    "SP500.info\n",
    "NASDAQ.info\n",
    "INTEREST_RATE.info\n",
    "\n",
    "# get historical market data\n",
    "data_period = \"1996-01-01\"\n",
    "end_date = datetime.now().strftime('%Y-%m-%d')\n",
    "DOW = DOW.history(start=data_period,end=end_date)\n",
    "SP500 = SP500.history(start=data_period,end=end_date)\n",
    "NASDAQ = NASDAQ.history(start=data_period,end=end_date)\n",
    "INTEREST_RATE = INTEREST_RATE.history(start=data_period,end=end_date)\n",
    "\n",
    "DOW.head()"
   ]
  },
  {
   "cell_type": "code",
   "execution_count": null,
   "metadata": {},
   "outputs": [],
   "source": [
    "# Plotting index prices in absolute values\n",
    "\n",
    "\n",
    "period=[\"1996-01-01\",\"1996-01-01\",\"2006-01-01\",\"2016-01-01\"]\n",
    "period_end=[\"2023-04-14\",\"2006-01-01\",\"2016-01-01\",\"2023-04-14\"]\n",
    "\n",
    "def make_plot(x,y):\n",
    "    plt.figure(figsize=(10, 6))\n",
    "    plt.title(f'Indecies ({x} - {y})')\n",
    "    plt.ylabel('Index prices')\n",
    "    plt.plot(NASDAQ['Close'][x:y], color=\"black\", label='NASDAQ')\n",
    "    plt.plot(DOW['Close'][x:y], color='blue',label='DOW')\n",
    "    plt.plot(SP500['Close'][x:y], color='navy',label='SP500')\n",
    "    plt.legend()\n",
    "    plt.show()"
   ]
  },
  {
   "cell_type": "code",
   "execution_count": null,
   "metadata": {},
   "outputs": [],
   "source": [
    "for x in range(len(period)):\n",
    "    make_plot(period[x],period_end[x])"
   ]
  },
  {
   "attachments": {},
   "cell_type": "markdown",
   "metadata": {},
   "source": [
    "### <a id='toc1_'></a>[Cleaning the data and indexing](#toc0_)\n"
   ]
  },
  {
   "cell_type": "code",
   "execution_count": null,
   "metadata": {},
   "outputs": [],
   "source": [
    "\n",
    "# Finding missing values across index (if there is any)\n",
    "\n",
    "print(NASDAQ.index.difference(SP500.index, sort=False))\n",
    "print(NASDAQ.index.difference(DOW.index, sort=False))\n",
    "print(SP500.index.difference(DOW.index, sort=False))"
   ]
  },
  {
   "cell_type": "code",
   "execution_count": null,
   "metadata": {},
   "outputs": [],
   "source": [
    "# Get name from DataFrame\n",
    "def get_df_name(df):\n",
    "    name =[x for x in globals() if globals()[x] is df][0]\n",
    "    return name"
   ]
  },
  {
   "cell_type": "code",
   "execution_count": null,
   "metadata": {},
   "outputs": [],
   "source": [
    "# Rename columns in DataFrame\n",
    "def rename_columns(k):\n",
    "    k.rename(columns = {'Close':f'{get_df_name(k)}'}, inplace = True)\n",
    "    k.rename(columns = {'Volume':f'{get_df_name(k)}_V'}, inplace = True)"
   ]
  },
  {
   "cell_type": "code",
   "execution_count": null,
   "metadata": {},
   "outputs": [],
   "source": [
    "# Renaming our columns\n",
    "rename_columns(DOW)\n",
    "rename_columns(SP500)\n",
    "rename_columns(NASDAQ)\n",
    "rename_columns(INTEREST_RATE)\n",
    "SP500.head()"
   ]
  },
  {
   "cell_type": "code",
   "execution_count": null,
   "metadata": {},
   "outputs": [],
   "source": [
    "# Creating af DataFrame for the three indecies \n",
    "\n",
    "df=pd.DataFrame(SP500[[\"SP500\",\"SP500_V\"]], index=SP500.index)\n",
    "df=pd.concat([df,NASDAQ[['NASDAQ','NASDAQ_V']]],ignore_index = False,axis=1)\n",
    "df=pd.concat([df,DOW[['DOW','DOW_V']]],ignore_index = False,axis=1)\n",
    "df=pd.concat([df,INTEREST_RATE['INTEREST_RATE']],ignore_index = False,axis=1)\n",
    "\n",
    "df.head()"
   ]
  },
  {
   "cell_type": "code",
   "execution_count": null,
   "metadata": {},
   "outputs": [],
   "source": [
    "# Cleaning data, indexing 2013 = 100\n",
    "\n",
    "\n",
    "def to_index(list_name,index_name):\n",
    "    for y in range(len(period)):\n",
    "        df[f'{list_name}_{y}']=index_name[period[y]:]/index_name[period[y]:][0]*100\n",
    "\n",
    "\n",
    "\n",
    "to_index('index_NASDAQ',df['NASDAQ'])\n",
    "to_index('index_DOW',df['DOW'])\n",
    "to_index('index_SP500',df['SP500'])"
   ]
  },
  {
   "cell_type": "code",
   "execution_count": null,
   "metadata": {},
   "outputs": [],
   "source": [
    "# Plotting the data in a figure and comparing the returns since 1993\n",
    "\n",
    "def index_plot(x,y,z):\n",
    "        plt.figure(figsize=(10, 6))\n",
    "        plt.plot(df[f'index_NASDAQ_{z}'][x:y], color=\"black\", label=f'NASDAQ')\n",
    "        plt.plot(df[f'index_DOW_{z}'][x:y], color='blue',label=f'DOW')\n",
    "        plt.plot(df[f'index_SP500_{z}'][x:y], color='navy',label=f'SP500')\n",
    "        plt.title(f'Comparison of US indexes ({x} - {y})')\n",
    "        plt.ylabel(f'{x}=100')\n",
    "        plt.xlabel('Date')\n",
    "        plt.legend()\n",
    "        plt.show()\n",
    "\n",
    "for x in range(len(period)):\n",
    "    index_plot(period[x],period_end[x],x)"
   ]
  },
  {
   "attachments": {},
   "cell_type": "markdown",
   "metadata": {},
   "source": [
    "##### <a id='toc1_'></a>[From 1996-2023 there have been positive returns for each of the three stock indexes (NASDAQ, Dow Jones and S&P 500) with large fluctuations around the Dot-com bubble (2000-2002), Financial Crisis (2007) and latest the Corona Pandemic. The Nasdaq index had the highest return over the entire period and outperformed the other indicies in the sub periods after 2006. Nasdaq has remained a strong performer in the recent periode from 2016-2023, mainly driven by the strong performance of technology companies. The S&P 500, consists of a broader range of companies than Nasdaq and a large variety of sectors. The S&P 500 have performed well doing each period, in general it can be seen that both SP500 and Dow Jones are less volatile than the Nasdaq index. S&P 500 The Dow Jones has had a slightly lower return compared to the other indicies during the period. The Dow Jones index consists of a larger amount of industrial companies, which tends to be more \"safe\" investment and less volatile.](#toc0_)\n"
   ]
  },
  {
   "attachments": {},
   "cell_type": "markdown",
   "metadata": {},
   "source": [
    "From 1996-2023 there have been positive returns for each of the three stock indexes (NASDAQ, Dow Jones and S&P 500) with large fluctuations around the Dot-com bubble (2000-2002), Financial Crisis (2007) and latest the Corona Pandemic. \n",
    "\n",
    "The Nasdaq index had the highest return over the entire period and outperformed the other indicies in the sub periods after 2006. Nasdaq has remained a strong performer in the recent periode from 2016-2023, mainly driven by the strong performance of technology companies. \n",
    "\n",
    "The S&P 500, consists of a broader range of companies than Nasdaq and a large variety of sectors. The S&P 500 have performed well doing each period, in general it can be seen that both SP500 and Dow Jones are less volatile than the Nasdaq index. S&P 500 \n",
    "\n",
    "The Dow Jones has had a slightly lower return compared to the other indicies during the period. The Dow Jones index consists of a larger amount of industrial companies, which tends to be more \"safe\" investment and less volatile.  "
   ]
  },
  {
   "attachments": {},
   "cell_type": "markdown",
   "metadata": {},
   "source": [
    "### <a id='toc1_'></a>[Regression analysis with indicies as independent variables, and interest rate as explanatory](#toc0_)"
   ]
  },
  {
   "cell_type": "code",
   "execution_count": null,
   "metadata": {},
   "outputs": [],
   "source": [
    "\n",
    "# Creating log/log variables for our regression model\n",
    "\n",
    "# Defining function for log:\n",
    "data_log=pd.DataFrame()\n",
    "def log_indexes(list_name):\n",
    "    #for y in range(len(period)):\n",
    "    data_log[f'{list_name}_log']=np.log(df[list_name])\n",
    "\n",
    "\n",
    "# Using the function to take log and drop missing values:\n",
    "log_indexes(\"SP500\")\n",
    "log_indexes(\"NASDAQ\")\n",
    "log_indexes(\"DOW\")\n",
    "log_indexes(\"INTEREST_RATE\")\n",
    "\n",
    "data_log = data_log.dropna()\n",
    "data_log.head()\n",
    "\n"
   ]
  },
  {
   "cell_type": "code",
   "execution_count": null,
   "metadata": {},
   "outputs": [],
   "source": [
    "# Defining regression model and regress each index with our explanatory variable (interest rate):\n",
    "\n",
    "def ols_regression(x,y):\n",
    "    model = sm.OLS(data_log[x].values, sm.add_constant(data_log[y].values))\n",
    "    results = model.fit()\n",
    "    print(results.summary())"
   ]
  },
  {
   "cell_type": "code",
   "execution_count": null,
   "metadata": {},
   "outputs": [],
   "source": [
    "# DOW regression\n",
    "\n",
    "ols_regression('DOW_log','INTEREST_RATE_log')"
   ]
  },
  {
   "cell_type": "code",
   "execution_count": null,
   "metadata": {},
   "outputs": [],
   "source": [
    "# SP500 regression\n",
    "\n",
    "ols_regression('SP500_log','INTEREST_RATE_log')"
   ]
  },
  {
   "cell_type": "code",
   "execution_count": null,
   "metadata": {},
   "outputs": [],
   "source": [
    "# NASDAQ regression\n",
    "\n",
    "ols_regression('NASDAQ_log','INTEREST_RATE_log')"
   ]
  },
  {
   "attachments": {},
   "cell_type": "markdown",
   "metadata": {},
   "source": [
    "The regression coefficients for the interest rate are negative in all three regressions, indiciating an increase in the rate will lead to a decrease in returns for all indicies. \n",
    "\n",
    "We notice that all F-statistics are statistically significant (p-values < 0.05). Which means there is strong evidence that we can reject the null-hypothesis of the regression line is zero. \n",
    "In other words, there is evidence to support the conclusion about the negative relationship between stock returns and the interest rate. We further notice that the standard errors are small, which  indicates that the estimated coefficients are quite precise.\n",
    "\n",
    "\n",
    "The results from our regressions are in line with our guesses. By looking at the coefficients we notice that the interest rate has a larger impact on the returns for the Nasdaq index than the others. \n",
    "\n",
    "The Nasdaq index is more sensitive due to the type of companies in the index (tech and growth stocks), which tend to have higher valuations based on future earnings rather than current earnings. This can be interpreted as the present value of their future cash flows is due to a larger discount rate. A higher interest rate increase the cost of borrowing, potentially leading to a decrease in investment and earnings. \n",
    "\n",
    "The Dow Jones and S&P 500 indicies are more diverse and consists of a broader range of companies, such as value stocks and blue-chip, which tend to have lower valuations and more stable present earnings. These types of companies may benefit from a moderat increase in rates, because it tends to be correlated with a stronger economy and larger corporate profits. "
   ]
  },
  {
   "attachments": {},
   "cell_type": "markdown",
   "metadata": {},
   "source": [
    "##### <a id='toc1_'></a>[The regression coefficients for the interest rate are negative in all three regressions, indiciating an increase in the rate will lead to a decrease in returns for all indicies. We notice that all F-statistics are statistically significant (p-values < 0.05). Which means there is strong evidence that we can reject the null-hypothesis of the regression line is zero. In other words, there is evidence to support the conclusion about the negative relationship between stock returns and the interest rate. We further notice that the standard errors are small, which  indicates that the estimated coefficients are quite precise.The results from our regressions are in line with our guesses. By looking at the coefficients we notice that the interest rate has a larger impact on the returns for the Nasdaq index than the others. The Nasdaq index is more sensitive due to the type of companies in the index (tech and growth stocks), which tend to have higher valuations based on future earnings rather than current earnings. This can be interpreted as the present value of their future cash flows is due to a larger discount rate. A higher interest rate increase the cost of borrowing, potentially leading to a decrease in investment and earnings. The Dow Jones and S&P 500 indicies are more diverse and consists of a broader range of companies, such as value stocks and blue-chip, which tend to have lower valuations and more stable present earnings. These types of companies may benefit from a moderat increase in rates, because it tends to be correlated with a stronger economy and larger corporate profits. ](#toc0_)"
   ]
  }
 ],
 "metadata": {
  "kernelspec": {
   "display_name": "base",
   "language": "python",
   "name": "python3"
  },
  "language_info": {
   "codemirror_mode": {
    "name": "ipython",
    "version": 3
   },
   "file_extension": ".py",
   "mimetype": "text/x-python",
   "name": "python",
   "nbconvert_exporter": "python",
   "pygments_lexer": "ipython3",
   "version": "3.9.16"
  },
  "orig_nbformat": 4
 },
 "nbformat": 4,
 "nbformat_minor": 2
}
